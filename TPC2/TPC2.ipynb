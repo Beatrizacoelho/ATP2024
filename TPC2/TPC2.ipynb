{
 "cells": [
  {
   "cell_type": "markdown",
   "metadata": {},
   "source": [
    "### TPC2: Adivinha o número\n",
    "- Crie um programa em Python para jogar o jogo \"Adivinha o número\":\n",
    "    - O jogo pode ter 2 modalidades: computador pensa num número (entre 0 e 100), utilizador tenta adivinhar; ou, o utilizador pensa num número (entre 0 e 100) e o computador tenta adivinhar;\n",
    "    - Quem tenta adivinhar responde com uma das afirmações: \"Acertou\", \"O número que pensei é Maior\" ou \"O número que pensei é Menor\";\n",
    "    - Uma vez descoberto o número o programa deverá terminar imprimindo o número de tentativas que quem adivinhou usou para chegar ao resultado."
   ]
  },
  {
   "cell_type": "code",
   "execution_count": 5,
   "metadata": {},
   "outputs": [
    {
     "name": "stdout",
     "output_type": "stream",
     "text": [
      "Computador adivinhou o número em7tentativas\n"
     ]
    }
   ],
   "source": [
    "modo = int(input(\"Escolha a forma como pretende jogar?\\n1- Computador adivinha o teu número\\n0- Adivinha o número do computador\"))\n",
    "sup = 100\n",
    "inf = 0\n",
    "x = 0\n",
    "n = 0 \n",
    "t = 1\n",
    "if modo == 0:\n",
    "    import random \n",
    "    r = random.randrange(0,100)\n",
    "    x = int(input(\"Diga um número\"))\n",
    "    while r != x :\n",
    "        t = t + 1\n",
    "        if r > x:\n",
    "            print(\"maior\")\n",
    "        else:\n",
    "            print(\"menor\")\n",
    "        x = int(input(\"Diga um número\"))\n",
    "    print(\"Acertou em \" + str(t) +  \" tentativas!\")\n",
    "elif modo == 1:\n",
    "    pergunta = str()\n",
    "    acertou = \"acertou\"\n",
    "    while pergunta != acertou:\n",
    "        n = n + 1\n",
    "        x = int((sup + inf)/2)\n",
    "        pergunta = input(\"O seu número é maior ou menor que \" + str(x) + \"? Se estiver certo, escreva acertou.\")\n",
    "        if pergunta == \"maior\":\n",
    "            inf = x\n",
    "        else: \n",
    "            sup = x\n",
    "    print (\"Computador adivinhou o número em \" + str(n) + \" tentativas\")"
   ]
  }
 ],
 "metadata": {
  "kernelspec": {
   "display_name": "Python 3",
   "language": "python",
   "name": "python3"
  },
  "language_info": {
   "codemirror_mode": {
    "name": "ipython",
    "version": 3
   },
   "file_extension": ".py",
   "mimetype": "text/x-python",
   "name": "python",
   "nbconvert_exporter": "python",
   "pygments_lexer": "ipython3",
   "version": "3.11.5"
  },
  "orig_nbformat": 4
 },
 "nbformat": 4,
 "nbformat_minor": 2
}
